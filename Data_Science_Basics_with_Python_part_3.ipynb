{
  "nbformat": 4,
  "nbformat_minor": 0,
  "metadata": {
    "colab": {
      "name": "Data Science Basics with Python part 3.ipynb",
      "provenance": [],
      "authorship_tag": "ABX9TyNlQr79UBiFC4bQzS9r3lfQ",
      "include_colab_link": true
    },
    "kernelspec": {
      "name": "python3",
      "display_name": "Python 3"
    },
    "language_info": {
      "name": "python"
    }
  },
  "cells": [
    {
      "cell_type": "markdown",
      "metadata": {
        "id": "view-in-github",
        "colab_type": "text"
      },
      "source": [
        "<a href=\"https://colab.research.google.com/github/drm1072/Data_Sets/blob/main/Data_Science_Basics_with_Python_part_3.ipynb\" target=\"_parent\"><img src=\"https://colab.research.google.com/assets/colab-badge.svg\" alt=\"Open In Colab\"/></a>"
      ]
    },
    {
      "cell_type": "code",
      "metadata": {
        "id": "oCFACOmw6y4D"
      },
      "source": [
        "import numpy as np  #Numpy provides fast mathematical function processing\n",
        "# We use np as a quick way to execute code; samething with pandas as pd"
      ],
      "execution_count": 2,
      "outputs": []
    },
    {
      "cell_type": "code",
      "metadata": {
        "id": "FUtMds6B60_L"
      },
      "source": [
        "# Single dimensional array\n",
        "data = np.array([7,25,97])"
      ],
      "execution_count": 3,
      "outputs": []
    },
    {
      "cell_type": "code",
      "metadata": {
        "colab": {
          "base_uri": "https://localhost:8080/"
        },
        "id": "uLR3uJ227BAY",
        "outputId": "419ce40c-3ff7-4489-a7a0-6704e167f606"
      },
      "source": [
        "# This is one row which rperesents one dimension\n",
        "data"
      ],
      "execution_count": 4,
      "outputs": [
        {
          "output_type": "execute_result",
          "data": {
            "text/plain": [
              "array([ 7, 25, 97])"
            ]
          },
          "metadata": {
            "tags": []
          },
          "execution_count": 4
        }
      ]
    },
    {
      "cell_type": "code",
      "metadata": {
        "id": "Re9crZp_7KeJ"
      },
      "source": [
        "#Single dimensional array\n",
        "data = np.array([7,17,6, 89])"
      ],
      "execution_count": 15,
      "outputs": []
    },
    {
      "cell_type": "code",
      "metadata": {
        "colab": {
          "base_uri": "https://localhost:8080/"
        },
        "id": "8UMEu8XG7YBa",
        "outputId": "e3c54679-9ee8-4a14-f33b-1f2da192a8b3"
      },
      "source": [
        "data"
      ],
      "execution_count": 17,
      "outputs": [
        {
          "output_type": "execute_result",
          "data": {
            "text/plain": [
              "array([ 7, 17,  6, 89])"
            ]
          },
          "metadata": {
            "tags": []
          },
          "execution_count": 17
        }
      ]
    },
    {
      "cell_type": "markdown",
      "metadata": {
        "id": "UF8rMSYZ7bAB"
      },
      "source": [
        "You should notice that the entire dataframe has been converted to floats."
      ]
    },
    {
      "cell_type": "code",
      "metadata": {
        "id": "5vb4yOE_7iLf"
      },
      "source": [
        "#Now lets create a new array\n",
        "data=np.array([4,0])\n",
        "\n",
        "data2=np.array([0,2])"
      ],
      "execution_count": 18,
      "outputs": []
    },
    {
      "cell_type": "code",
      "metadata": {
        "id": "DapYS1y57v9R"
      },
      "source": [
        "#addition with our arrays\n",
        "data3 = data+data2"
      ],
      "execution_count": 19,
      "outputs": []
    },
    {
      "cell_type": "code",
      "metadata": {
        "colab": {
          "base_uri": "https://localhost:8080/"
        },
        "id": "ALCiZCUq8ZZO",
        "outputId": "9efc0038-39c2-499c-b481-7e029e9773b5"
      },
      "source": [
        "data3"
      ],
      "execution_count": 20,
      "outputs": [
        {
          "output_type": "execute_result",
          "data": {
            "text/plain": [
              "array([4, 2])"
            ]
          },
          "metadata": {
            "tags": []
          },
          "execution_count": 20
        }
      ]
    },
    {
      "cell_type": "code",
      "metadata": {
        "id": "Zz8tqw5D8cRs"
      },
      "source": [
        "#lets multiple a given number (I choose the number 4)\n",
        "data4=6*data3"
      ],
      "execution_count": 21,
      "outputs": []
    },
    {
      "cell_type": "code",
      "metadata": {
        "colab": {
          "base_uri": "https://localhost:8080/"
        },
        "id": "yEIDeCWV8l-G",
        "outputId": "977b8a08-cb0d-4e3b-b318-134dcd53ee6e"
      },
      "source": [
        "# 4 times 2 = 8\n",
        "data4"
      ],
      "execution_count": 23,
      "outputs": [
        {
          "output_type": "execute_result",
          "data": {
            "text/plain": [
              "array([24, 12])"
            ]
          },
          "metadata": {
            "tags": []
          },
          "execution_count": 23
        }
      ]
    },
    {
      "cell_type": "code",
      "metadata": {
        "id": "5RO3-GPi8w3G"
      },
      "source": [
        "#lets create a new numpy array\n",
        "data5=np.array([4,2])"
      ],
      "execution_count": 25,
      "outputs": []
    },
    {
      "cell_type": "code",
      "metadata": {
        "id": "nnxoHU6986o9"
      },
      "source": [
        "# Lets multiplye dataframe array 4 times 5\n",
        "data6=data4*data5"
      ],
      "execution_count": 26,
      "outputs": []
    },
    {
      "cell_type": "code",
      "metadata": {
        "colab": {
          "base_uri": "https://localhost:8080/"
        },
        "id": "AbG4lXhG9EUb",
        "outputId": "599c9897-9e69-4b5b-92db-9b40c53f80d2"
      },
      "source": [
        "#12 times 4 is 48\n",
        "#2 times 12 is 24\n",
        "data6"
      ],
      "execution_count": 27,
      "outputs": [
        {
          "output_type": "execute_result",
          "data": {
            "text/plain": [
              "array([96, 24])"
            ]
          },
          "metadata": {
            "tags": []
          },
          "execution_count": 27
        }
      ]
    },
    {
      "cell_type": "code",
      "metadata": {
        "id": "qC30Zhwk9RlM"
      },
      "source": [
        "#Multidimensional array\n",
        "#lets create a multidimensional array which adds height\n",
        "#this is now 3 dimensional because we have length vs width vs height\n",
        "data7 = np.array([[2, 13, 89], [34, 16, 841], [1, 2, 4]])"
      ],
      "execution_count": 28,
      "outputs": []
    },
    {
      "cell_type": "code",
      "metadata": {
        "id": "Je82PKzc90AN"
      },
      "source": [
        "data8=np.array([[2, 1, 6], [1, 2, 3], [1, 9, 0]])"
      ],
      "execution_count": 33,
      "outputs": []
    },
    {
      "cell_type": "code",
      "metadata": {
        "id": "r_turfAW-H6M"
      },
      "source": [
        "#The code doesnt work because python doesnt allow us because array is not equivalent\n",
        "data9=data7+data8"
      ],
      "execution_count": 34,
      "outputs": []
    },
    {
      "cell_type": "code",
      "metadata": {
        "colab": {
          "base_uri": "https://localhost:8080/"
        },
        "id": "dcumOsfq-cHF",
        "outputId": "6e19e9b8-7fea-4f7d-d449-39ef0fcf7945"
      },
      "source": [
        "data9"
      ],
      "execution_count": 35,
      "outputs": [
        {
          "output_type": "execute_result",
          "data": {
            "text/plain": [
              "array([[  4,  14,  95],\n",
              "       [ 35,  18, 844],\n",
              "       [  2,  11,   4]])"
            ]
          },
          "metadata": {
            "tags": []
          },
          "execution_count": 35
        }
      ]
    },
    {
      "cell_type": "code",
      "metadata": {
        "id": "fjaPfidY-zyV"
      },
      "source": [
        "# creating number 10\n",
        "data10=np.array([[3, 1, 7], [4, 5, 8], [1, 2, 7]])"
      ],
      "execution_count": 36,
      "outputs": []
    },
    {
      "cell_type": "code",
      "metadata": {
        "id": "zttI5O-5_GaV"
      },
      "source": [
        "#multipying arrays\n",
        "data11=data9*data10"
      ],
      "execution_count": 37,
      "outputs": []
    },
    {
      "cell_type": "code",
      "metadata": {
        "colab": {
          "base_uri": "https://localhost:8080/"
        },
        "id": "dHfubVqMAS8f",
        "outputId": "93721c7f-d2b6-48d9-d72b-dd6f264c97e2"
      },
      "source": [
        "data11"
      ],
      "execution_count": 38,
      "outputs": [
        {
          "output_type": "execute_result",
          "data": {
            "text/plain": [
              "array([[  12,   14,  665],\n",
              "       [ 140,   90, 6752],\n",
              "       [   2,   22,   28]])"
            ]
          },
          "metadata": {
            "tags": []
          },
          "execution_count": 38
        }
      ]
    },
    {
      "cell_type": "code",
      "metadata": {
        "colab": {
          "base_uri": "https://localhost:8080/"
        },
        "id": "PGJZugUNAfSM",
        "outputId": "4fa7c037-11c5-4283-d606-3509b7c0118f"
      },
      "source": [
        "#lets locate some values\n",
        "data11[1]"
      ],
      "execution_count": 39,
      "outputs": [
        {
          "output_type": "execute_result",
          "data": {
            "text/plain": [
              "array([ 140,   90, 6752])"
            ]
          },
          "metadata": {
            "tags": []
          },
          "execution_count": 39
        }
      ]
    },
    {
      "cell_type": "code",
      "metadata": {
        "colab": {
          "base_uri": "https://localhost:8080/"
        },
        "id": "MX0znK_gBNGd",
        "outputId": "f0fd13c6-d3c6-4498-c5c0-84bc86701039"
      },
      "source": [
        "data11[1][2]"
      ],
      "execution_count": 40,
      "outputs": [
        {
          "output_type": "execute_result",
          "data": {
            "text/plain": [
              "6752"
            ]
          },
          "metadata": {
            "tags": []
          },
          "execution_count": 40
        }
      ]
    },
    {
      "cell_type": "code",
      "metadata": {
        "colab": {
          "base_uri": "https://localhost:8080/"
        },
        "id": "jaJz88JlBu2s",
        "outputId": "60f1bdbb-c1f4-49b4-a5a3-14cb4b32de42"
      },
      "source": [
        "#It stops us here because the third place doesnt exist\n",
        "#remember Python starts with 0 not 1\n",
        "#the first number is 0 row or the 1st row, number 3 is the third feature or column\n",
        "data11[0][2]"
      ],
      "execution_count": 42,
      "outputs": [
        {
          "output_type": "execute_result",
          "data": {
            "text/plain": [
              "665"
            ]
          },
          "metadata": {
            "tags": []
          },
          "execution_count": 42
        }
      ]
    },
    {
      "cell_type": "markdown",
      "metadata": {
        "id": "o1a7x741CyDy"
      },
      "source": [
        "This means the 0 row\n",
        "Number 2 column\n"
      ]
    },
    {
      "cell_type": "code",
      "metadata": {
        "id": "B3FunZjBDEOV"
      },
      "source": [
        "#Lets transpose data or switch data around\n",
        "data12=data11.T"
      ],
      "execution_count": 43,
      "outputs": []
    },
    {
      "cell_type": "code",
      "metadata": {
        "colab": {
          "base_uri": "https://localhost:8080/"
        },
        "id": "1lURDuDuD5hX",
        "outputId": "6071983f-4190-4187-a0aa-1b769c1fcb1c"
      },
      "source": [
        "data12"
      ],
      "execution_count": 44,
      "outputs": [
        {
          "output_type": "execute_result",
          "data": {
            "text/plain": [
              "array([[  12,  140,    2],\n",
              "       [  14,   90,   22],\n",
              "       [ 665, 6752,   28]])"
            ]
          },
          "metadata": {
            "tags": []
          },
          "execution_count": 44
        }
      ]
    },
    {
      "cell_type": "code",
      "metadata": {
        "id": "z6U4r4UxD9OW"
      },
      "source": [
        "#This code arranges values in array from 0 to designated number\n",
        "#I choose 64\n",
        "data13=np.arange(64)"
      ],
      "execution_count": 48,
      "outputs": []
    },
    {
      "cell_type": "code",
      "metadata": {
        "colab": {
          "base_uri": "https://localhost:8080/"
        },
        "id": "DQJDURXZFGS1",
        "outputId": "a30e5197-8157-4666-85a0-80da358fee14"
      },
      "source": [
        "data13"
      ],
      "execution_count": 49,
      "outputs": [
        {
          "output_type": "execute_result",
          "data": {
            "text/plain": [
              "array([ 0,  1,  2,  3,  4,  5,  6,  7,  8,  9, 10, 11, 12, 13, 14, 15, 16,\n",
              "       17, 18, 19, 20, 21, 22, 23, 24, 25, 26, 27, 28, 29, 30, 31, 32, 33,\n",
              "       34, 35, 36, 37, 38, 39, 40, 41, 42, 43, 44, 45, 46, 47, 48, 49, 50,\n",
              "       51, 52, 53, 54, 55, 56, 57, 58, 59, 60, 61, 62, 63])"
            ]
          },
          "metadata": {
            "tags": []
          },
          "execution_count": 49
        }
      ]
    },
    {
      "cell_type": "code",
      "metadata": {
        "id": "ttNaMxxAFJ9E"
      },
      "source": [
        "#The resphape function moves our data frame array to 8 rows and 8 columns\n",
        "data14=data13.reshape(8,8)"
      ],
      "execution_count": 52,
      "outputs": []
    },
    {
      "cell_type": "code",
      "metadata": {
        "colab": {
          "base_uri": "https://localhost:8080/"
        },
        "id": "phsH86l_Fg83",
        "outputId": "bacf043b-04a5-43f6-fa70-c12ec97ff41b"
      },
      "source": [
        "data14"
      ],
      "execution_count": 53,
      "outputs": [
        {
          "output_type": "execute_result",
          "data": {
            "text/plain": [
              "array([[ 0,  1,  2,  3,  4,  5,  6,  7],\n",
              "       [ 8,  9, 10, 11, 12, 13, 14, 15],\n",
              "       [16, 17, 18, 19, 20, 21, 22, 23],\n",
              "       [24, 25, 26, 27, 28, 29, 30, 31],\n",
              "       [32, 33, 34, 35, 36, 37, 38, 39],\n",
              "       [40, 41, 42, 43, 44, 45, 46, 47],\n",
              "       [48, 49, 50, 51, 52, 53, 54, 55],\n",
              "       [56, 57, 58, 59, 60, 61, 62, 63]])"
            ]
          },
          "metadata": {
            "tags": []
          },
          "execution_count": 53
        }
      ]
    },
    {
      "cell_type": "code",
      "metadata": {
        "id": "RDhbiPHQFlIM"
      },
      "source": [
        "#lets create a 3d array\n",
        "#the reshape must equal amount of values in array\n",
        "#8**=64\n",
        "#4*4*4=64\n",
        "data14=data13.reshape(4, 4, 4)"
      ],
      "execution_count": 55,
      "outputs": []
    },
    {
      "cell_type": "code",
      "metadata": {
        "colab": {
          "base_uri": "https://localhost:8080/"
        },
        "id": "grv8ASorGBSM",
        "outputId": "f14076ce-e84c-49d0-cd8b-9594e795555f"
      },
      "source": [
        "data14"
      ],
      "execution_count": 56,
      "outputs": [
        {
          "output_type": "execute_result",
          "data": {
            "text/plain": [
              "array([[[ 0,  1,  2,  3],\n",
              "        [ 4,  5,  6,  7],\n",
              "        [ 8,  9, 10, 11],\n",
              "        [12, 13, 14, 15]],\n",
              "\n",
              "       [[16, 17, 18, 19],\n",
              "        [20, 21, 22, 23],\n",
              "        [24, 25, 26, 27],\n",
              "        [28, 29, 30, 31]],\n",
              "\n",
              "       [[32, 33, 34, 35],\n",
              "        [36, 37, 38, 39],\n",
              "        [40, 41, 42, 43],\n",
              "        [44, 45, 46, 47]],\n",
              "\n",
              "       [[48, 49, 50, 51],\n",
              "        [52, 53, 54, 55],\n",
              "        [56, 57, 58, 59],\n",
              "        [60, 61, 62, 63]]])"
            ]
          },
          "metadata": {
            "tags": []
          },
          "execution_count": 56
        }
      ]
    },
    {
      "cell_type": "markdown",
      "metadata": {
        "id": "tOudyCiWGMQK"
      },
      "source": [
        "ndim-the number of axes\n",
        "\n",
        "shape-the dimensions of the arrray\n",
        "\n",
        "size-the number of elements in the arrray\n",
        "\n",
        "dtype-the data type of the elements of the array"
      ]
    },
    {
      "cell_type": "code",
      "metadata": {
        "colab": {
          "base_uri": "https://localhost:8080/"
        },
        "id": "YYdRys9wGaVr",
        "outputId": "eba0720e-ef59-4b5f-f578-88967114d921"
      },
      "source": [
        "data14.ndim"
      ],
      "execution_count": 57,
      "outputs": [
        {
          "output_type": "execute_result",
          "data": {
            "text/plain": [
              "3"
            ]
          },
          "metadata": {
            "tags": []
          },
          "execution_count": 57
        }
      ]
    },
    {
      "cell_type": "code",
      "metadata": {
        "colab": {
          "base_uri": "https://localhost:8080/"
        },
        "id": "d3nUIoyQGgL9",
        "outputId": "8fd6dc6c-7db4-4107-bbc3-e83814742cdb"
      },
      "source": [
        "data14.shape"
      ],
      "execution_count": 58,
      "outputs": [
        {
          "output_type": "execute_result",
          "data": {
            "text/plain": [
              "(4, 4, 4)"
            ]
          },
          "metadata": {
            "tags": []
          },
          "execution_count": 58
        }
      ]
    },
    {
      "cell_type": "code",
      "metadata": {
        "colab": {
          "base_uri": "https://localhost:8080/"
        },
        "id": "NAC6U1-kGui0",
        "outputId": "61760409-38dc-4563-923d-b8e26a225c9b"
      },
      "source": [
        "data14.size"
      ],
      "execution_count": 59,
      "outputs": [
        {
          "output_type": "execute_result",
          "data": {
            "text/plain": [
              "64"
            ]
          },
          "metadata": {
            "tags": []
          },
          "execution_count": 59
        }
      ]
    },
    {
      "cell_type": "code",
      "metadata": {
        "colab": {
          "base_uri": "https://localhost:8080/"
        },
        "id": "sBCQHnn7G2WU",
        "outputId": "32b32ee2-5efd-41cb-abf1-abf047c5164b"
      },
      "source": [
        "#does math vertically\n",
        "#It adds each dataframe together\n",
        "np.sum(data14, axis = 0)"
      ],
      "execution_count": 60,
      "outputs": [
        {
          "output_type": "execute_result",
          "data": {
            "text/plain": [
              "array([[ 96, 100, 104, 108],\n",
              "       [112, 116, 120, 124],\n",
              "       [128, 132, 136, 140],\n",
              "       [144, 148, 152, 156]])"
            ]
          },
          "metadata": {
            "tags": []
          },
          "execution_count": 60
        }
      ]
    },
    {
      "cell_type": "code",
      "metadata": {
        "colab": {
          "base_uri": "https://localhost:8080/"
        },
        "id": "4PyzII0vHEaU",
        "outputId": "551ed1b4-7385-4a40-eb64-bdcc5b1a4cd6"
      },
      "source": [
        "np.sum(data14, axis= 1)"
      ],
      "execution_count": 61,
      "outputs": [
        {
          "output_type": "execute_result",
          "data": {
            "text/plain": [
              "array([[ 24,  28,  32,  36],\n",
              "       [ 88,  92,  96, 100],\n",
              "       [152, 156, 160, 164],\n",
              "       [216, 220, 224, 228]])"
            ]
          },
          "metadata": {
            "tags": []
          },
          "execution_count": 61
        }
      ]
    },
    {
      "cell_type": "code",
      "metadata": {
        "colab": {
          "base_uri": "https://localhost:8080/"
        },
        "id": "ONFUQje7HPfU",
        "outputId": "1283ea2e-3c86-40a8-c44d-213dfb929365"
      },
      "source": [
        "data14"
      ],
      "execution_count": 62,
      "outputs": [
        {
          "output_type": "execute_result",
          "data": {
            "text/plain": [
              "array([[[ 0,  1,  2,  3],\n",
              "        [ 4,  5,  6,  7],\n",
              "        [ 8,  9, 10, 11],\n",
              "        [12, 13, 14, 15]],\n",
              "\n",
              "       [[16, 17, 18, 19],\n",
              "        [20, 21, 22, 23],\n",
              "        [24, 25, 26, 27],\n",
              "        [28, 29, 30, 31]],\n",
              "\n",
              "       [[32, 33, 34, 35],\n",
              "        [36, 37, 38, 39],\n",
              "        [40, 41, 42, 43],\n",
              "        [44, 45, 46, 47]],\n",
              "\n",
              "       [[48, 49, 50, 51],\n",
              "        [52, 53, 54, 55],\n",
              "        [56, 57, 58, 59],\n",
              "        [60, 61, 62, 63]]])"
            ]
          },
          "metadata": {
            "tags": []
          },
          "execution_count": 62
        }
      ]
    },
    {
      "cell_type": "code",
      "metadata": {
        "id": "Dv4vOgYcHhCb"
      },
      "source": [
        "data15=np.array([[[ 0,  1,  2,  3],\n",
        "        [ 4,  5,  6,  7],\n",
        "        [ 8,  9, 10, 11],\n",
        "        [12, 13, 14, 15]],\n",
        "\n",
        "       [[16, 17, 18, 19],\n",
        "        [20, 21, 22, 23],\n",
        "        [24, 25, 26, 27],\n",
        "        [28, 29, 30, 31]],\n",
        "\n",
        "       [[32, 33, 34, 35],\n",
        "        [36, 37, 38, 39],\n",
        "        [40, 41, 42, 43],\n",
        "        [44, 45, 46, 47]],\n",
        "\n",
        "       [[48, 49, 50, 51],\n",
        "        [52, 53, 54, 55],\n",
        "        [56, 57, 58, 59],\n",
        "        [60, 61, 62, 63]]])"
      ],
      "execution_count": 64,
      "outputs": []
    },
    {
      "cell_type": "code",
      "metadata": {
        "colab": {
          "base_uri": "https://localhost:8080/"
        },
        "id": "gPthljQAHxo0",
        "outputId": "f09e47ba-33e0-43ca-9913-fb4464b9e48a"
      },
      "source": [
        "#Now lets combine the data vertically (axis 1)\n",
        "np.concatenate([data14, data15], axis = 1)"
      ],
      "execution_count": 65,
      "outputs": [
        {
          "output_type": "execute_result",
          "data": {
            "text/plain": [
              "array([[[ 0,  1,  2,  3],\n",
              "        [ 4,  5,  6,  7],\n",
              "        [ 8,  9, 10, 11],\n",
              "        [12, 13, 14, 15],\n",
              "        [ 0,  1,  2,  3],\n",
              "        [ 4,  5,  6,  7],\n",
              "        [ 8,  9, 10, 11],\n",
              "        [12, 13, 14, 15]],\n",
              "\n",
              "       [[16, 17, 18, 19],\n",
              "        [20, 21, 22, 23],\n",
              "        [24, 25, 26, 27],\n",
              "        [28, 29, 30, 31],\n",
              "        [16, 17, 18, 19],\n",
              "        [20, 21, 22, 23],\n",
              "        [24, 25, 26, 27],\n",
              "        [28, 29, 30, 31]],\n",
              "\n",
              "       [[32, 33, 34, 35],\n",
              "        [36, 37, 38, 39],\n",
              "        [40, 41, 42, 43],\n",
              "        [44, 45, 46, 47],\n",
              "        [32, 33, 34, 35],\n",
              "        [36, 37, 38, 39],\n",
              "        [40, 41, 42, 43],\n",
              "        [44, 45, 46, 47]],\n",
              "\n",
              "       [[48, 49, 50, 51],\n",
              "        [52, 53, 54, 55],\n",
              "        [56, 57, 58, 59],\n",
              "        [60, 61, 62, 63],\n",
              "        [48, 49, 50, 51],\n",
              "        [52, 53, 54, 55],\n",
              "        [56, 57, 58, 59],\n",
              "        [60, 61, 62, 63]]])"
            ]
          },
          "metadata": {
            "tags": []
          },
          "execution_count": 65
        }
      ]
    },
    {
      "cell_type": "code",
      "metadata": {
        "id": "IJ0sxA82IayQ"
      },
      "source": [
        "#Now lets combine the data horizontally (axis 0)\n",
        "data16=np.concatenate([data14, data15], axis = 0)"
      ],
      "execution_count": 66,
      "outputs": []
    },
    {
      "cell_type": "code",
      "metadata": {
        "colab": {
          "base_uri": "https://localhost:8080/"
        },
        "id": "echA0CqQIqxX",
        "outputId": "35ae5477-3ca7-4c51-f1ae-980c36aef356"
      },
      "source": [
        "data16"
      ],
      "execution_count": 67,
      "outputs": [
        {
          "output_type": "execute_result",
          "data": {
            "text/plain": [
              "array([[[ 0,  1,  2,  3],\n",
              "        [ 4,  5,  6,  7],\n",
              "        [ 8,  9, 10, 11],\n",
              "        [12, 13, 14, 15]],\n",
              "\n",
              "       [[16, 17, 18, 19],\n",
              "        [20, 21, 22, 23],\n",
              "        [24, 25, 26, 27],\n",
              "        [28, 29, 30, 31]],\n",
              "\n",
              "       [[32, 33, 34, 35],\n",
              "        [36, 37, 38, 39],\n",
              "        [40, 41, 42, 43],\n",
              "        [44, 45, 46, 47]],\n",
              "\n",
              "       [[48, 49, 50, 51],\n",
              "        [52, 53, 54, 55],\n",
              "        [56, 57, 58, 59],\n",
              "        [60, 61, 62, 63]],\n",
              "\n",
              "       [[ 0,  1,  2,  3],\n",
              "        [ 4,  5,  6,  7],\n",
              "        [ 8,  9, 10, 11],\n",
              "        [12, 13, 14, 15]],\n",
              "\n",
              "       [[16, 17, 18, 19],\n",
              "        [20, 21, 22, 23],\n",
              "        [24, 25, 26, 27],\n",
              "        [28, 29, 30, 31]],\n",
              "\n",
              "       [[32, 33, 34, 35],\n",
              "        [36, 37, 38, 39],\n",
              "        [40, 41, 42, 43],\n",
              "        [44, 45, 46, 47]],\n",
              "\n",
              "       [[48, 49, 50, 51],\n",
              "        [52, 53, 54, 55],\n",
              "        [56, 57, 58, 59],\n",
              "        [60, 61, 62, 63]]])"
            ]
          },
          "metadata": {
            "tags": []
          },
          "execution_count": 67
        }
      ]
    },
    {
      "cell_type": "code",
      "metadata": {
        "colab": {
          "base_uri": "https://localhost:8080/"
        },
        "id": "axpOWKZJI35G",
        "outputId": "a3620bb6-c074-4cac-d92d-919322cc5bab"
      },
      "source": [
        "#max value\n",
        "np.max(data16)"
      ],
      "execution_count": 68,
      "outputs": [
        {
          "output_type": "execute_result",
          "data": {
            "text/plain": [
              "63"
            ]
          },
          "metadata": {
            "tags": []
          },
          "execution_count": 68
        }
      ]
    },
    {
      "cell_type": "code",
      "metadata": {
        "colab": {
          "base_uri": "https://localhost:8080/"
        },
        "id": "tqUbfxbDI-Kh",
        "outputId": "97e7ee77-b008-4f04-b46a-e666d7782a3f"
      },
      "source": [
        "#minimal value\n",
        "np.min(data16)"
      ],
      "execution_count": 69,
      "outputs": [
        {
          "output_type": "execute_result",
          "data": {
            "text/plain": [
              "0"
            ]
          },
          "metadata": {
            "tags": []
          },
          "execution_count": 69
        }
      ]
    },
    {
      "cell_type": "code",
      "metadata": {
        "colab": {
          "base_uri": "https://localhost:8080/"
        },
        "id": "QNTwShlMJEtG",
        "outputId": "51dea0aa-00c5-4059-bf4e-fda9dd1314f9"
      },
      "source": [
        "#average of numbers\n",
        "np.mean(data16)"
      ],
      "execution_count": 70,
      "outputs": [
        {
          "output_type": "execute_result",
          "data": {
            "text/plain": [
              "31.5"
            ]
          },
          "metadata": {
            "tags": []
          },
          "execution_count": 70
        }
      ]
    },
    {
      "cell_type": "code",
      "metadata": {
        "colab": {
          "base_uri": "https://localhost:8080/"
        },
        "id": "0MSPCXx5JTQP",
        "outputId": "0b888812-2800-4674-a363-98dcbcfd5b4f"
      },
      "source": [
        "#standard deviation\n",
        "#the average numerical distance from the mean\n",
        "np.std(data16)"
      ],
      "execution_count": 71,
      "outputs": [
        {
          "output_type": "execute_result",
          "data": {
            "text/plain": [
              "18.472953201911167"
            ]
          },
          "metadata": {
            "tags": []
          },
          "execution_count": 71
        }
      ]
    }
  ]
}